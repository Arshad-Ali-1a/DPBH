{
 "cells": [
  {
   "cell_type": "code",
   "execution_count": 59,
   "metadata": {},
   "outputs": [],
   "source": [
    "import numpy as np\n",
    "from PIL import Image\n",
    "import requests\n",
    "IMAGE_PATH=r\"C:\\Users\\Mohammad Arshad Ali\\Pictures\\Screenshots\\Screenshot (1045).png\"\n",
    "# IMAGE_PATH=r\"C:\\Users\\Mohammad Arshad Ali\\Downloads\\WhatsApp Image 2024-01-26 at 8.46.34 PM.jpeg\"\n",
    "\n"
   ]
  },
  {
   "cell_type": "code",
   "execution_count": 60,
   "metadata": {},
   "outputs": [],
   "source": [
    "img_data=np.array(Image.open(IMAGE_PATH))"
   ]
  },
  {
   "cell_type": "code",
   "execution_count": 64,
   "metadata": {},
   "outputs": [
    {
     "data": {
      "text/plain": [
       "array([[[ 12,  12,  23, 255],\n",
       "        [ 12,  12,  23, 255],\n",
       "        [ 12,  12,  23, 255],\n",
       "        ...,\n",
       "        [ 12,  12,  23, 255],\n",
       "        [ 12,  12,  23, 255],\n",
       "        [ 12,  12,  23, 255]],\n",
       "\n",
       "       [[ 12,  12,  23, 255],\n",
       "        [ 12,  12,  23, 255],\n",
       "        [ 12,  12,  23, 255],\n",
       "        ...,\n",
       "        [ 12,  12,  23, 255],\n",
       "        [ 12,  12,  23, 255],\n",
       "        [ 12,  12,  23, 255]],\n",
       "\n",
       "       [[ 12,  12,  23, 255],\n",
       "        [ 12,  12,  23, 255],\n",
       "        [ 12,  12,  23, 255],\n",
       "        ...,\n",
       "        [ 12,  12,  23, 255],\n",
       "        [ 12,  12,  23, 255],\n",
       "        [ 12,  12,  23, 255]],\n",
       "\n",
       "       ...,\n",
       "\n",
       "       [[241, 243, 246, 255],\n",
       "        [241, 243, 246, 255],\n",
       "        [241, 243, 246, 255],\n",
       "        ...,\n",
       "        [241, 241, 241, 255],\n",
       "        [241, 241, 241, 255],\n",
       "        [241, 241, 241, 255]],\n",
       "\n",
       "       [[  0,   0,   0, 255],\n",
       "        [  0,   0,   0, 255],\n",
       "        [  0,   0,   0, 255],\n",
       "        ...,\n",
       "        [  0,   0,   0, 255],\n",
       "        [  0,   0,   0, 255],\n",
       "        [  0,   0,   0, 255]],\n",
       "\n",
       "       [[  0,   0,   0, 255],\n",
       "        [  0,   0,   0, 255],\n",
       "        [  0,   0,   0, 255],\n",
       "        ...,\n",
       "        [  0,   0,   0, 255],\n",
       "        [  0,   0,   0, 255],\n",
       "        [  0,   0,   0, 255]]], dtype=uint8)"
      ]
     },
     "execution_count": 64,
     "metadata": {},
     "output_type": "execute_result"
    }
   ],
   "source": [
    "img_data"
   ]
  },
  {
   "cell_type": "code",
   "execution_count": 62,
   "metadata": {},
   "outputs": [
    {
     "name": "stdout",
     "output_type": "stream",
     "text": [
      "{'result': {'Misdirection': ['® Bank Offer 10% off on Canara Bank Credit Card Transactions, up to $1,500 on orders of $5,000 and above T&C', '® Bank Offer 10% off on HDFC Bank Credit Card EMI Transactions, up to 1,250 on orders of 77,500 and above T&C.', '® Bank Offer 10% off on Citi-branded Credit Card EMI Transactions, up to 2,000 on orders of #10,000 and above T&C'], 'Scarcity': ['Available offers']}, 'count': {'Misdirection': 3, 'Scarcity': 1}}\n"
     ]
    }
   ],
   "source": [
    "resp=requests.post('http://localhost:8000/detect_darkness',json={\"img_data\":img_data.tolist()})\n",
    "\n",
    "if not resp.ok:\n",
    "    print(resp.content)\n",
    "else:\n",
    "    print(resp.json()[\"dark_patterns\"])"
   ]
  },
  {
   "cell_type": "code",
   "execution_count": 6,
   "metadata": {},
   "outputs": [
    {
     "data": {
      "text/plain": [
       "{'result': {'Sneaking': ['Get it by Sun., Aug. 1 if you order within 23 hrs. 17 min. Faster Shipping']},\n",
       " 'count': {'Sneaking': 1}}"
      ]
     },
     "execution_count": 6,
     "metadata": {},
     "output_type": "execute_result"
    }
   ],
   "source": [
    "resp.json()[\"dark_patterns\"]"
   ]
  },
  {
   "cell_type": "code",
   "execution_count": 10,
   "metadata": {},
   "outputs": [
    {
     "ename": "AttributeError",
     "evalue": "'numpy.ndarray' object has no attribute 'hi'",
     "output_type": "error",
     "traceback": [
      "\u001b[1;31m---------------------------------------------------------------------------\u001b[0m",
      "\u001b[1;31mAttributeError\u001b[0m                            Traceback (most recent call last)",
      "Input \u001b[1;32mIn [10]\u001b[0m, in \u001b[0;36m<cell line: 1>\u001b[1;34m()\u001b[0m\n\u001b[1;32m----> 1\u001b[0m img_data\u001b[38;5;241m.\u001b[39mhi\u001b[38;5;241m=\u001b[39m\u001b[38;5;241m99\u001b[39m\n",
      "\u001b[1;31mAttributeError\u001b[0m: 'numpy.ndarray' object has no attribute 'hi'"
     ]
    }
   ],
   "source": [
    "img_data.hi=99"
   ]
  },
  {
   "cell_type": "code",
   "execution_count": null,
   "metadata": {},
   "outputs": [],
   "source": [
    "Image.fromarray(np.array(resp.json()['img_data'])).show()"
   ]
  },
  {
   "cell_type": "code",
   "execution_count": 6,
   "metadata": {},
   "outputs": [
    {
     "data": {
      "text/plain": [
       "b'Internal Server Error'"
      ]
     },
     "execution_count": 6,
     "metadata": {},
     "output_type": "execute_result"
    }
   ],
   "source": [
    "resp.content"
   ]
  },
  {
   "cell_type": "code",
   "execution_count": 3,
   "metadata": {},
   "outputs": [
    {
     "data": {
      "text/plain": [
       "(399, 1101, 3)"
      ]
     },
     "execution_count": 3,
     "metadata": {},
     "output_type": "execute_result"
    }
   ],
   "source": [
    "img_data.shape"
   ]
  },
  {
   "cell_type": "code",
   "execution_count": 3,
   "metadata": {},
   "outputs": [
    {
     "ename": "",
     "evalue": "",
     "output_type": "error",
     "traceback": [
      "\u001b[1;31mThe Kernel crashed while executing code in the the current cell or a previous cell. Please review the code in the cell(s) to identify a possible cause of the failure. Click <a href='https://aka.ms/vscodeJupyterKernelCrash'>here</a> for more info. View Jupyter <a href='command:jupyter.viewOutput'>log</a> for further details."
     ]
    }
   ],
   "source": [
    "import cv2\n",
    "# cv2_image = cv2.cvtColor(img_data,cv2.COLOR_RGB2BGR)\n",
    "\n",
    "# Display the cv2 image (optional)\n",
    "cv2.imshow(\"Converted Image\", img_data)"
   ]
  }
 ],
 "metadata": {
  "kernelspec": {
   "display_name": "Python 3",
   "language": "python",
   "name": "python3"
  },
  "language_info": {
   "codemirror_mode": {
    "name": "ipython",
    "version": 3
   },
   "file_extension": ".py",
   "mimetype": "text/x-python",
   "name": "python",
   "nbconvert_exporter": "python",
   "pygments_lexer": "ipython3",
   "version": "3.10.0"
  }
 },
 "nbformat": 4,
 "nbformat_minor": 2
}
